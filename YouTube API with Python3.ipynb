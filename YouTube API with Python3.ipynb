{
 "cells": [
  {
   "cell_type": "code",
   "execution_count": 2,
   "metadata": {},
   "outputs": [],
   "source": [
    "# Goto console.developer.google.com\n",
    "# create new Project\n",
    "# add API key\n",
    "# search for 'YouTube Data API v3'\n",
    "# Enable API\n",
    "# Copy API Key Here\n",
    "# Take Help from -> https://github.com/googleapis/google-api-python-client\n",
    "# pip install google-api-python-client\n",
    "# Instance Methods : http://googleapis.github.io/google-api-python-client/docs/dyn/youtube_v3.html\n",
    "\n",
    "API_key = 'YOUR API KEY'"
   ]
  },
  {
   "cell_type": "code",
   "execution_count": 3,
   "metadata": {},
   "outputs": [],
   "source": [
    "# Import build to make API Objects which is used to get response\n",
    "\n",
    "from googleapiclient.discovery import build"
   ]
  },
  {
   "cell_type": "code",
   "execution_count": 4,
   "metadata": {},
   "outputs": [],
   "source": [
    "youtube = build('youtube', 'v3', developerKey = API_key)"
   ]
  },
  {
   "cell_type": "markdown",
   "metadata": {},
   "source": [
    "YouTube Data API\n",
    "\n",
    "Instance Methods\n",
    "\n",
    "In this project, I am going to demostrate only two methods\n",
    "\n",
    "1. channels()  -> Returns the channels Resource.\n",
    "     \n",
    "2. search()  -> Returns the search Resource."
   ]
  },
  {
   "cell_type": "code",
   "execution_count": 8,
   "metadata": {},
   "outputs": [],
   "source": [
    "#User-name for carryminati YouTube channel = AddictedA1\n",
    "\n",
    "request = youtube.channels().list( part = \"statistics\", forUsername = 'AddictedA1' )\n",
    "\n",
    "reponse = request.execute()"
   ]
  },
  {
   "cell_type": "code",
   "execution_count": 9,
   "metadata": {},
   "outputs": [
    {
     "name": "stdout",
     "output_type": "stream",
     "text": [
      "{'kind': 'youtube#channelListResponse', 'etag': 'ioM-NslyTa7Jt3vVB0gxzXK26iE', 'pageInfo': {'totalResults': 1, 'resultsPerPage': 5}, 'items': [{'kind': 'youtube#channel', 'etag': 'G3WNUNrnKL2DkaiSeYe54jvoU9c', 'id': 'UCj22tfcQrWG7EMEKS0qLeEg', 'statistics': {'viewCount': '1385211761', 'commentCount': '0', 'subscriberCount': '21000000', 'hiddenSubscriberCount': False, 'videoCount': '170'}}]}\n"
     ]
    }
   ],
   "source": [
    "# the details of the AddictedA1 channel\n",
    "\n",
    "print(reponse)"
   ]
  },
  {
   "cell_type": "code",
   "execution_count": 15,
   "metadata": {},
   "outputs": [],
   "source": [
    "#result of searching \"CarryMinati\" over youtube.\n",
    "\n",
    "search_keyword = youtube.search().list(q = \"CarryMinati\", part = \"id, snippet\", maxResults = 10).execute()\n",
    "\n",
    "results = search_keyword.get(\"items\", [])"
   ]
  },
  {
   "cell_type": "code",
   "execution_count": 17,
   "metadata": {},
   "outputs": [
    {
     "data": {
      "text/plain": [
       "list"
      ]
     },
     "execution_count": 17,
     "metadata": {},
     "output_type": "execute_result"
    }
   ],
   "source": [
    "# response is of type List.\n",
    "\n",
    "type(results)"
   ]
  },
  {
   "cell_type": "code",
   "execution_count": 39,
   "metadata": {},
   "outputs": [
    {
     "data": {
      "text/plain": [
       "dict"
      ]
     },
     "execution_count": 39,
     "metadata": {},
     "output_type": "execute_result"
    }
   ],
   "source": [
    "# Elements of results list are of Dictionary type.\n",
    "\n",
    "type(results[0])"
   ]
  },
  {
   "cell_type": "code",
   "execution_count": 24,
   "metadata": {},
   "outputs": [
    {
     "name": "stdout",
     "output_type": "stream",
     "text": [
      "youtube#channel\n",
      "youtube#video\n",
      "youtube#video\n",
      "youtube#video\n",
      "youtube#video\n",
      "youtube#video\n",
      "youtube#video\n",
      "youtube#video\n",
      "youtube#video\n",
      "youtube#video\n"
     ]
    }
   ],
   "source": [
    "# Top 10 type of result come after searching \"CarryMinati\" over YouTube\n",
    "#It contains 1 Channel and 9 videos\n",
    "\n",
    "for res in results:\n",
    "    \n",
    "    print(res['id']['kind'])"
   ]
  },
  {
   "cell_type": "code",
   "execution_count": 46,
   "metadata": {},
   "outputs": [],
   "source": [
    "# Appending Channels and Videos details in separate lists\n",
    "\n",
    "videos = []\n",
    "channels = []\n",
    "\n",
    "for result in results: \n",
    "        # video result object \n",
    "        if result['id']['kind'] == \"youtube#video\": \n",
    "            videos.append(\"% s (% s) (% s) (% s)\" % (result[\"snippet\"][\"title\"], \n",
    "                            result[\"id\"][\"videoId\"], result['snippet']['description'], \n",
    "                            result['snippet']['thumbnails']['default']['url'])) \n",
    "        # channel result object \n",
    "        elif result['id']['kind'] == \"youtube#channel\": \n",
    "            channels.append(\"% s (% s) (% s) (% s)\" % (result[\"snippet\"][\"title\"], \n",
    "                                   result[\"id\"][\"channelId\"],  \n",
    "                                   result['snippet']['description'],  \n",
    "                                   result['snippet']['thumbnails']['default']['url']))"
   ]
  },
  {
   "cell_type": "code",
   "execution_count": 48,
   "metadata": {},
   "outputs": [
    {
     "data": {
      "text/plain": [
       "['CarryMinati (UCj22tfcQrWG7EMEKS0qLeEg) (I am an Indian comedian, gamer, rapper. CarryisLive : https://www.youtube.com/channel/UC0IW... Instagram▻ https://www.instagram.com/carryminati/ Facebook ...) (https://yt3.ggpht.com/-MczKppo_8TQ/AAAAAAAAAAI/AAAAAAAAAAA/MLb_qfmgpsE/s88-c-k-no-mo-rj-c0xffffff/photo.jpg)']"
      ]
     },
     "execution_count": 48,
     "metadata": {},
     "output_type": "execute_result"
    }
   ],
   "source": [
    "# 1 Channel in search result\n",
    "\n",
    "channels"
   ]
  },
  {
   "cell_type": "code",
   "execution_count": 47,
   "metadata": {},
   "outputs": [
    {
     "name": "stdout",
     "output_type": "stream",
     "text": [
      "1 YALGAAR - CARRYMINATI X Wily Frenzy (zzwRbKI2pn4) (YALGAAR HO Song& Lyrics - Ajey Nagar (CarryMinati) Music composed & Produced by - Wily Frenzy Managed by - Deepak Char Shot by - Shlok Mishra ...) (https://i.ytimg.com/vi/zzwRbKI2pn4/default.jpg)\n",
      " \n",
      "2 CarryMinati - YALGAAR Song Reactions - Raftaar, Round2hell, Dhruv Rathee, Kunal Kamra, BYN, Saiman | (8mkBhXpbQrE) (Submit News HERE-https://docs.google.com/forms/d/1pnD89W_evryMiAWyiwxKV2SuBHnFt6A60_ueVNdXpvs/edit?chromeless=1 My Second Channel- ...) (https://i.ytimg.com/vi/8mkBhXpbQrE/default.jpg)\n",
      " \n",
      "3 YALGAAR - CARRYMINATI X Wily Frenzy | Reaction | Jaby Koay (Tai5ZcrBgiE) (Intro song by DAVIS 'Home' on Youtube: https://www.youtube.com/watch?v=FzGi0d1y3rg Youtube - http://bit.ly/30OK7RR Spotify - https://spoti.fi/2I3vRvE iTunes: ...) (https://i.ytimg.com/vi/Tai5ZcrBgiE/default.jpg)\n",
      " \n",
      "4 YALGAAR by @CarryMinati made me SHAVE my HEAD ! (5Az7Bzt7FHY) (I love carry but i do not like his fans. PAPA KI PARI DISSTRACK : https://www.youtube.com/watch?v=tyVkUc9-bJo Outro ...) (https://i.ytimg.com/vi/5Az7Bzt7FHY/default.jpg)\n",
      " \n",
      "5 YALGAAR - CARRYMINATI NEW SONG REACTION (PODCAST) || TIKTOK VS YOUTUBE (dt7SAtayvuI) (YALGAAR - CARRYMINATI NEW SONG REACTION (PODCAST) || TIKTOK VS YOUTUBE #YALGAAR #CARRYMINATI #YALGARREACTION FULL VIDEO ...) (https://i.ytimg.com/vi/dt7SAtayvuI/default.jpg)\n",
      " \n",
      "6 YALGAAR - CARRYMINATI X Wily Frenzy Reaction Roast | Crazy Deep (YHt3nt5ftio) (Reaction on @CarryMinati YALGAAR Carryminati X Wily Frenzy. so in this Video I am Gonna Roast Reaction Channels and also i will show you how to make a ...) (https://i.ytimg.com/vi/YHt3nt5ftio/default.jpg)\n",
      " \n",
      "7 YALGAAR - CARRYMINATI X Wily Frenzy || Music Review || (JfM-_VDSheM) (YALGAAR - CARRYMINATI X Wily Frenzy || Music Review || In this video we will review Carryminati's latest song YALGAAR. This song is a complete banger and ...) (https://i.ytimg.com/vi/JfM-_VDSheM/default.jpg)\n",
      " \n",
      "8 CARRYMINATI YALGAAR REACTION (Zu2LXDh31wI) (CARRYMINATI YALGAAR REACTION Carry Video - https://youtu.be/zzwRbKI2pn4 Subscribe To My New Rap Channel Where I Upload My Rap Songs ...) (https://i.ytimg.com/vi/Zu2LXDh31wI/default.jpg)\n",
      " \n",
      "9 CARRYMINATI YALGAAR REACTION | CARRYMINATI X WILY FRENZY (ZtYNKods85k) (Follow me on- Insta - https://www.instagram.com/aarvard_ CARRYMINATI YALGAAR REACTION | CARRYMINATI X WILY FRENZY About : JunkAarvard is a ...) (https://i.ytimg.com/vi/ZtYNKods85k/default.jpg)\n",
      " \n"
     ]
    }
   ],
   "source": [
    "# 9 videos after searching \"CarryMinati\" over YouTube\n",
    "\n",
    "count = 1\n",
    "for i in videos:\n",
    "    print(count,i)\n",
    "    count+=1\n",
    "    print(\" \")"
   ]
  },
  {
   "cell_type": "code",
   "execution_count": null,
   "metadata": {},
   "outputs": [],
   "source": [
    "#This is just a small project demonstrate the use of YouTube Data API with python... #QuarantineFun"
   ]
  }
 ],
 "metadata": {
  "kernelspec": {
   "display_name": "Python 3",
   "language": "python",
   "name": "python3"
  },
  "language_info": {
   "codemirror_mode": {
    "name": "ipython",
    "version": 3
   },
   "file_extension": ".py",
   "mimetype": "text/x-python",
   "name": "python",
   "nbconvert_exporter": "python",
   "pygments_lexer": "ipython3",
   "version": "3.6.1"
  }
 },
 "nbformat": 4,
 "nbformat_minor": 2
}
